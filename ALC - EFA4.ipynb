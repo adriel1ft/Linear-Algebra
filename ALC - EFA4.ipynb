{
 "cells": [
  {
   "cell_type": "code",
   "execution_count": 107,
   "id": "bf72fb52",
   "metadata": {},
   "outputs": [
    {
     "data": {
      "text/plain": [
       "LinearAlgebra.QRCompactWY{Float64, Matrix{Float64}, Matrix{Float64}}\n",
       "Q factor:\n",
       "3×3 LinearAlgebra.QRCompactWYQ{Float64, Matrix{Float64}, Matrix{Float64}}:\n",
       " -0.6  0.0  0.8\n",
       "  0.0  1.0  0.0\n",
       "  0.8  0.0  0.6\n",
       "R factor:\n",
       "2×2 Matrix{Float64}:\n",
       " 5.0  10.0\n",
       " 0.0   2.0"
      ]
     },
     "execution_count": 107,
     "metadata": {},
     "output_type": "execute_result"
    }
   ],
   "source": [
    "using LinearAlgebra\n",
    "\n",
    "# Sua matriz A\n",
    "A = [-3 -6; 0 2; 4 8;]\n",
    "\n",
    "# Realiza a decomposição QR\n",
    "Q, R = qr(A)\n",
    "\n",
    "# Q é a matriz ortogonal, R é a matriz triangular superior\n"
   ]
  },
  {
   "cell_type": "code",
   "execution_count": 99,
   "id": "08a803ee",
   "metadata": {},
   "outputs": [],
   "source": [
    "using LinearAlgebra"
   ]
  },
  {
   "cell_type": "code",
   "execution_count": 100,
   "id": "72f49d87",
   "metadata": {},
   "outputs": [
    {
     "data": {
      "text/plain": [
       "GS_MOD (generic function with 1 method)"
      ]
     },
     "execution_count": 100,
     "metadata": {},
     "output_type": "execute_result"
    }
   ],
   "source": [
    "function GS_MOD(A)\n",
    "    m, n = size(A)\n",
    "    Q = zeros(m, n)\n",
    "    R = zeros(n, n)\n",
    "\n",
    "    kValues = []\n",
    "    print(\"Para k = \")\n",
    "    for k = 1:n\n",
    "        print(k, \" \")\n",
    "    end\n",
    "\n",
    "    print(\"faça\\n\")\n",
    "\n",
    "\n",
    "    for k = 1:n\n",
    "        print(\"\\tPara k = $k faça:\\n\")\n",
    "        v = A[:, k]\n",
    "        print(\"\\t\\tu\n",
    "k) => \", v, \"\\n\")\n",
    "        for j = 1:k-1\n",
    "            print(\"\\t\\tPara j = $j faça:\\n\")\n",
    "            print(\"\\t\\t\\tR[\n",
    "k] = w\n",
    "k => \", dot(Q[:, j], A[:, k]), \"\\n\")\n",
    "            R[j, k] = dot(Q[:, j], A[:, k])\n",
    "            print(\"\\t\\t\\tu\n",
    "k - R[\n",
    "k]*w$j => \", v - R[j, k]*Q[:, j], \"\\n\")\n",
    "            v = v - R[j, k]*Q[:, j]\n",
    "        end\n",
    "        print(\"\\t\\tr[\n",
    "k] = norm(u$k) => \", norm(v), \"\\n\")\n",
    "        print(\"\\t\\tw\n",
    "k/r[\n",
    "k] => \", v/norm(v), \"\\n\") # Q[:, k] = v/R[k, k\n",
    "        R[k, k] = norm(v)\n",
    "        Q[:, k] = v/R[k, k]\n",
    "        print(\"\\n\")\n",
    "    end\n",
    "    return Q, R\n",
    "end"
   ]
  },
  {
   "cell_type": "code",
   "execution_count": 102,
   "id": "40c18e67",
   "metadata": {},
   "outputs": [
    {
     "name": "stdout",
     "output_type": "stream",
     "text": [
      "Para k = 1 2 3 faça\n",
      "\tPara k = 1 faça:\n",
      "\t\tu\n",
      "k) => [1, -1, 0]\n",
      "\t\tr[\n",
      "k] = norm(u1) => 1.4142135623730951\n",
      "\t\tw\n",
      "k/r[\n",
      "k] => [0.7071067811865475, -0.7071067811865475, 0.0]\n",
      "\n",
      "\tPara k = 2 faça:\n",
      "\t\tu\n",
      "k) => [-1, 1, 0]\n",
      "\t\tPara j = 1 faça:\n",
      "\t\t\tR[\n",
      "k] = w\n",
      "k => -1.414213562373095\n",
      "\t\t\tu\n",
      "k - R[\n",
      "k]*w1 => [-2.220446049250313e-16, 2.220446049250313e-16, 0.0]\n",
      "\t\tr[\n",
      "k] = norm(u2) => 3.1401849173675503e-16\n",
      "\t\tw\n",
      "k/r[\n",
      "k] => [-0.7071067811865475, 0.7071067811865475, 0.0]\n",
      "\n",
      "\tPara k = 3 faça:\n",
      "\t\tu\n",
      "k) => [0, 0, -1]\n",
      "\t\tPara j = 1 faça:\n",
      "\t\t\tR[\n",
      "k] = w\n",
      "k => 0.0\n",
      "\t\t\tu\n",
      "k - R[\n",
      "k]*w1 => [0.0, 0.0, -1.0]\n",
      "\t\tPara j = 2 faça:\n",
      "\t\t\tR[\n",
      "k] = w\n",
      "k => 0.0\n",
      "\t\t\tu\n",
      "k - R[\n",
      "k]*w2 => [0.0, 0.0, -1.0]\n",
      "\t\tr[\n",
      "k] = norm(u3) => 1.0\n",
      "\t\tw\n",
      "k/r[\n",
      "k] => [0.0, 0.0, -1.0]\n",
      "\n",
      "Q = [0.7071067811865475 -0.7071067811865475 0.0; -0.7071067811865475 0.7071067811865475 0.0; 0.0 0.0 -1.0]\n",
      "R = [1.4142135623730951 -1.414213562373095 0.0; 0.0 3.1401849173675503e-16 0.0; 0.0 0.0 1.0]\n"
     ]
    },
    {
     "data": {
      "text/plain": [
       "3×3 Matrix{Float64}:\n",
       "  1.0  -1.0   0.0\n",
       " -1.0   1.0   0.0\n",
       "  0.0   0.0  -1.0"
      ]
     },
     "execution_count": 102,
     "metadata": {},
     "output_type": "execute_result"
    }
   ],
   "source": [
    "A = [1 -1 0; -1 1 0; 0 0 -1;];\n",
    "\n",
    "Q, R = GS_MOD(A);\n",
    "\n",
    "println(\"Q = \", Q)\n",
    "println(\"R = \", R)\n",
    "Q * R"
   ]
  },
  {
   "cell_type": "code",
   "execution_count": null,
   "id": "3b176d9e",
   "metadata": {},
   "outputs": [],
   "source": [
    "[-3]"
   ]
  },
  {
   "cell_type": "code",
   "execution_count": 106,
   "id": "68de9997",
   "metadata": {},
   "outputs": [
    {
     "name": "stdout",
     "output_type": "stream",
     "text": [
      "Para k = 1 2 3 faça\n",
      "\tPara k = 1 faça:\n",
      "\t\tu\n",
      "k) => [-3, -6]\n",
      "\t\tr[\n",
      "k] = norm(u1) => 6.708203932499369\n",
      "\t\tw\n",
      "k/r[\n",
      "k] => [-0.4472135954999579, -0.8944271909999159]\n",
      "\n",
      "\tPara k = 2 faça:\n",
      "\t\tu\n",
      "k) => [0, 2]\n",
      "\t\tPara j = 1 faça:\n",
      "\t\t\tR[\n",
      "k] = w\n",
      "k => -1.7888543819998317\n",
      "\t\t\tu\n",
      "k - R[\n",
      "k]*w1 => [-0.7999999999999999, 0.40000000000000013]\n",
      "\t\tr[\n",
      "k] = norm(u2) => 0.8944271909999159\n",
      "\t\tw\n",
      "k/r[\n",
      "k] => [-0.8944271909999159, 0.4472135954999581]\n",
      "\n",
      "\tPara k = 3 faça:\n",
      "\t\tu\n",
      "k) => [4, 8]\n",
      "\t\tPara j = 1 faça:\n",
      "\t\t\tR[\n",
      "k] = w\n",
      "k => -8.94427190999916\n",
      "\t\t\tu\n",
      "k - R[\n",
      "k]*w1 => [0.0, 0.0]\n",
      "\t\tPara j = 2 faça:\n",
      "\t\t\tR[\n",
      "k] = w\n",
      "k => 1.3322676295501878e-15\n",
      "\t\t\tu\n",
      "k - R[\n",
      "k]*w2 => [1.191616393558691e-15, -5.958081967793457e-16]\n",
      "\t\tr[\n",
      "k] = norm(u3) => 1.332267629550188e-15\n",
      "\t\tw\n",
      "k/r[\n",
      "k] => [0.8944271909999157, -0.44721359549995804]\n",
      "\n",
      "Q = [-0.4472135954999579 -0.8944271909999159 0.8944271909999157; -0.8944271909999159 0.4472135954999581 -0.44721359549995804]\n",
      "R = [6.708203932499369 -1.7888543819998317 -8.94427190999916; 0.0 0.8944271909999159 1.3322676295501878e-15; 0.0 0.0 1.332267629550188e-15]\n"
     ]
    },
    {
     "data": {
      "text/plain": [
       "2×3 Matrix{Float64}:\n",
       " -3.0  -2.51898e-17  4.0\n",
       " -6.0   2.0          8.0"
      ]
     },
     "execution_count": 106,
     "metadata": {},
     "output_type": "execute_result"
    }
   ],
   "source": [
    "A = [-3 0 4; -6 2 8;]\n",
    "\n",
    "Q, R = GS_MOD(A);\n",
    "\n",
    "println(\"Q = \", Q)\n",
    "println(\"R = \", R)\n",
    "Q * R"
   ]
  },
  {
   "cell_type": "code",
   "execution_count": null,
   "id": "1980df3c",
   "metadata": {},
   "outputs": [],
   "source": []
  },
  {
   "cell_type": "markdown",
   "id": "fc12e4a2",
   "metadata": {},
   "source": [
    "### QR Reduzido"
   ]
  },
  {
   "cell_type": "code",
   "execution_count": 87,
   "id": "39a4b60b",
   "metadata": {},
   "outputs": [
    {
     "data": {
      "text/plain": [
       "3×2 Matrix{Int64}:\n",
       "  2   0\n",
       " -1   0\n",
       "  0  -1"
      ]
     },
     "execution_count": 87,
     "metadata": {},
     "output_type": "execute_result"
    }
   ],
   "source": [
    "A = [2 0; -1 0;0 -1;]"
   ]
  },
  {
   "cell_type": "code",
   "execution_count": 36,
   "id": "c55aae80",
   "metadata": {},
   "outputs": [
    {
     "data": {
      "text/plain": [
       "3-element Vector{Float64}:\n",
       " -0.22975294128973506\n",
       " -0.9732489845711196\n",
       "  0.0"
      ]
     },
     "execution_count": 36,
     "metadata": {},
     "output_type": "execute_result"
    }
   ],
   "source": [
    "A1 = A;\n",
    "\n",
    "x = A1[:,1]\n",
    "e1 = [1 ; 0 ;0];\n",
    "α1 = round.(norm(x),digits = 6);\n",
    "v = round.(x - α1*e1,digits=6);\n",
    "\n",
    "u = v / norm(v)"
   ]
  },
  {
   "cell_type": "code",
   "execution_count": 37,
   "id": "71043b5d",
   "metadata": {},
   "outputs": [
    {
     "data": {
      "text/plain": [
       "3-element Vector{Float64}:\n",
       " -0.229753\n",
       " -0.973249\n",
       "  0.0"
      ]
     },
     "execution_count": 37,
     "metadata": {},
     "output_type": "execute_result"
    }
   ],
   "source": [
    "u = round.(u,digits=6)"
   ]
  },
  {
   "cell_type": "code",
   "execution_count": 38,
   "id": "14a25f50",
   "metadata": {},
   "outputs": [
    {
     "data": {
      "text/plain": [
       "3×3 Matrix{Float64}:\n",
       "  0.894427  -0.447214  0.0\n",
       " -0.447214  -0.894427  0.0\n",
       "  0.0        0.0       1.0"
      ]
     },
     "execution_count": 38,
     "metadata": {},
     "output_type": "execute_result"
    }
   ],
   "source": [
    "Q1 = diagm(ones(3)) - 2*u*u'"
   ]
  },
  {
   "cell_type": "code",
   "execution_count": 39,
   "id": "c501b3a2",
   "metadata": {},
   "outputs": [
    {
     "data": {
      "text/plain": [
       "3×2 Matrix{Float64}:\n",
       "  2.23607   0.0\n",
       " -0.0       0.0\n",
       "  0.0      -1.0"
      ]
     },
     "execution_count": 39,
     "metadata": {},
     "output_type": "execute_result"
    }
   ],
   "source": [
    "\n",
    "A2 = round.(Q1*A1, digits = 6)\n",
    "#A2til = A2[2:end,2:end]"
   ]
  },
  {
   "cell_type": "code",
   "execution_count": 111,
   "id": "d01d8296",
   "metadata": {},
   "outputs": [
    {
     "data": {
      "text/plain": [
       "3×2 Matrix{Float64}:\n",
       "  2.23607      0.0\n",
       " -2.77986e-7   0.0\n",
       "  0.0         -1.0"
      ]
     },
     "execution_count": 111,
     "metadata": {},
     "output_type": "execute_result"
    }
   ],
   "source": [
    "A2 = Q1*A1"
   ]
  },
  {
   "cell_type": "code",
   "execution_count": 112,
   "id": "fc724126",
   "metadata": {},
   "outputs": [
    {
     "data": {
      "text/plain": [
       "2×1 Matrix{Float64}:\n",
       "  0.0\n",
       " -1.0"
      ]
     },
     "execution_count": 112,
     "metadata": {},
     "output_type": "execute_result"
    }
   ],
   "source": [
    "A2til = A2[2:end,2:end]"
   ]
  },
  {
   "cell_type": "code",
   "execution_count": 113,
   "id": "931c1cde",
   "metadata": {},
   "outputs": [
    {
     "data": {
      "text/plain": [
       "1.0"
      ]
     },
     "execution_count": 113,
     "metadata": {},
     "output_type": "execute_result"
    }
   ],
   "source": [
    "x = A2til[:,1]\n",
    "e1 = [1 ; 0;];\n",
    "α2 = norm(x)\n"
   ]
  },
  {
   "cell_type": "code",
   "execution_count": 114,
   "id": "75d4bea0",
   "metadata": {},
   "outputs": [],
   "source": [
    "v = x - α2*e1;\n",
    "\n",
    "u = v / norm(v);"
   ]
  },
  {
   "cell_type": "code",
   "execution_count": 115,
   "id": "af3982fa",
   "metadata": {},
   "outputs": [
    {
     "data": {
      "text/plain": [
       "2-element Vector{Float64}:\n",
       " -0.707107\n",
       " -0.707107"
      ]
     },
     "execution_count": 115,
     "metadata": {},
     "output_type": "execute_result"
    }
   ],
   "source": [
    "round.(u,digits=6)"
   ]
  },
  {
   "cell_type": "code",
   "execution_count": 116,
   "id": "6209b72b",
   "metadata": {},
   "outputs": [
    {
     "data": {
      "text/plain": [
       "2×2 Matrix{Float64}:\n",
       "  2.22045e-16  -1.0\n",
       " -1.0           2.22045e-16"
      ]
     },
     "execution_count": 116,
     "metadata": {},
     "output_type": "execute_result"
    }
   ],
   "source": [
    "Q2til = diagm(ones(2))-2*u*u'"
   ]
  },
  {
   "cell_type": "code",
   "execution_count": 117,
   "id": "c32b2d39",
   "metadata": {},
   "outputs": [
    {
     "data": {
      "text/plain": [
       "3×3 Matrix{Int64}:\n",
       " 1   0   0\n",
       " 0   0  -1\n",
       " 0  -1   0"
      ]
     },
     "execution_count": 117,
     "metadata": {},
     "output_type": "execute_result"
    }
   ],
   "source": [
    "Q2 = [1 0 0; 0 0 -1; 0 -1 0;]"
   ]
  },
  {
   "cell_type": "code",
   "execution_count": 51,
   "id": "10b360e1",
   "metadata": {},
   "outputs": [
    {
     "data": {
      "text/plain": [
       "3×2 Matrix{Float64}:\n",
       " 2.23607  0.0\n",
       " 0.0      1.0\n",
       " 0.0      0.0"
      ]
     },
     "execution_count": 51,
     "metadata": {},
     "output_type": "execute_result"
    }
   ],
   "source": [
    "A3 = round.(Q2 * A2,digits=6)"
   ]
  },
  {
   "cell_type": "code",
   "execution_count": 60,
   "id": "9c3a7f64",
   "metadata": {},
   "outputs": [
    {
     "data": {
      "text/plain": [
       "3×3 Matrix{Float64}:\n",
       "  0.894427   0.0  0.447214\n",
       " -0.447214  -0.0  0.894427\n",
       "  0.0       -1.0  0.0"
      ]
     },
     "execution_count": 60,
     "metadata": {},
     "output_type": "execute_result"
    }
   ],
   "source": [
    "Q=Q1*Q2"
   ]
  },
  {
   "cell_type": "code",
   "execution_count": 71,
   "id": "98ce1403",
   "metadata": {},
   "outputs": [
    {
     "data": {
      "text/plain": [
       "3×2 Matrix{Float64}:\n",
       "  0.894427   0.0\n",
       " -0.447214  -0.0\n",
       "  0.0       -1.0"
      ]
     },
     "execution_count": 71,
     "metadata": {},
     "output_type": "execute_result"
    }
   ],
   "source": [
    "Qtil = Q[:,1:2]"
   ]
  },
  {
   "cell_type": "code",
   "execution_count": 110,
   "id": "3d2a199e",
   "metadata": {},
   "outputs": [
    {
     "data": {
      "text/plain": [
       "2-element Vector{Float64}:\n",
       "  0.447213\n",
       " -1.0"
      ]
     },
     "execution_count": 110,
     "metadata": {},
     "output_type": "execute_result"
    }
   ],
   "source": [
    "btil=round.(Qtil'*[1;1;1;],digits=6)"
   ]
  },
  {
   "cell_type": "code",
   "execution_count": 74,
   "id": "10f9e0ec",
   "metadata": {},
   "outputs": [
    {
     "data": {
      "text/plain": [
       "2×2 Matrix{Float64}:\n",
       " 2.23607  0.0\n",
       " 0.0      1.0"
      ]
     },
     "execution_count": 74,
     "metadata": {},
     "output_type": "execute_result"
    }
   ],
   "source": [
    "Rtil = [2.23607 0; 0 1;]"
   ]
  },
  {
   "cell_type": "code",
   "execution_count": 76,
   "id": "ba83e496",
   "metadata": {},
   "outputs": [
    {
     "ename": "LoadError",
     "evalue": "error in method definition: function Base.* must be explicitly imported to be extended",
     "output_type": "error",
     "traceback": [
      "error in method definition: function Base.* must be explicitly imported to be extended",
      "",
      "Stacktrace:",
      " [1] top-level scope",
      "   @ none:0",
      " [2] top-level scope",
      "   @ In[76]:1"
     ]
    }
   ],
   "source": [
    "Rtil*x = btil"
   ]
  },
  {
   "cell_type": "code",
   "execution_count": 85,
   "id": "a261ca42",
   "metadata": {},
   "outputs": [
    {
     "data": {
      "text/plain": [
       "2-element Vector{Float64}:\n",
       "  0.2\n",
       " -1.0"
      ]
     },
     "execution_count": 85,
     "metadata": {},
     "output_type": "execute_result"
    }
   ],
   "source": [
    "x=[0.2;-1;]"
   ]
  },
  {
   "cell_type": "code",
   "execution_count": 90,
   "id": "01392a07",
   "metadata": {},
   "outputs": [
    {
     "data": {
      "text/plain": [
       "3-element Vector{Int64}:\n",
       " 1\n",
       " 1\n",
       " 1"
      ]
     },
     "execution_count": 90,
     "metadata": {},
     "output_type": "execute_result"
    }
   ],
   "source": [
    "b=[1;1;1;]"
   ]
  },
  {
   "cell_type": "code",
   "execution_count": 91,
   "id": "b2e388b9",
   "metadata": {},
   "outputs": [
    {
     "data": {
      "text/plain": [
       "1.8"
      ]
     },
     "execution_count": 91,
     "metadata": {},
     "output_type": "execute_result"
    }
   ],
   "source": [
    "norm(A*x - b)^2"
   ]
  },
  {
   "cell_type": "code",
   "execution_count": 92,
   "id": "1c6f0a6d",
   "metadata": {},
   "outputs": [
    {
     "data": {
      "text/plain": [
       "1.8"
      ]
     },
     "execution_count": 92,
     "metadata": {},
     "output_type": "execute_result"
    }
   ],
   "source": []
  },
  {
   "cell_type": "code",
   "execution_count": null,
   "id": "2b71ec8d",
   "metadata": {},
   "outputs": [],
   "source": []
  }
 ],
 "metadata": {
  "kernelspec": {
   "display_name": "Julia 1.9.3",
   "language": "julia",
   "name": "julia-1.9"
  },
  "language_info": {
   "file_extension": ".jl",
   "mimetype": "application/julia",
   "name": "julia",
   "version": "1.9.3"
  }
 },
 "nbformat": 4,
 "nbformat_minor": 5
}
